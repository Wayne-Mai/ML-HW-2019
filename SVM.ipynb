{
 "cells": [
  {
   "cell_type": "code",
   "execution_count": 32,
   "metadata": {},
   "outputs": [],
   "source": [
    "import numpy as np\n",
    "import matplotlib.pyplot as plt\n",
    "from sklearn import svm, datasets\n",
    "import pandas as pd\n",
    "def make_meshgrid(x, y, h=.02):\n",
    "    x_min, x_max = x.min() - 1, x.max() + 1\n",
    "    y_min, y_max = y.min() - 1, y.max() + 1\n",
    "    xx, yy = np.meshgrid(np.arange(x_min, x_max, h),\n",
    "                         np.arange(y_min, y_max, h))\n",
    "    return xx, yy\n",
    "\n",
    "\n",
    "def plot_contours(ax, clf, xx, yy, **params):\n",
    "    Z = clf.predict(np.c_[xx.ravel(), yy.ravel()])\n",
    "    Z = Z.reshape(xx.shape)\n",
    "    out = ax.contourf(xx, yy, Z, **params)\n",
    "    return out\n",
    "\n",
    "   "
   ]
  },
  {
   "cell_type": "code",
   "execution_count": 56,
   "metadata": {},
   "outputs": [],
   "source": [
    "\n",
    "\n",
    "# import some data to play with\n",
    "iris = datasets.load_iris()\n",
    "# Take the first two features. We could avoid this by using a two-dim dataset\n",
    "X = iris.data[:, :2]\n",
    "y = iris.target\n",
    "\n"
   ]
  },
  {
   "cell_type": "code",
   "execution_count": 36,
   "metadata": {},
   "outputs": [
    {
     "name": "stdout",
     "output_type": "stream",
     "text": [
      "        0      1  2\n",
      "0   0.697  0.460  1\n",
      "1   0.774  0.376  1\n",
      "2   0.634  0.264  1\n",
      "3   0.608  0.318  1\n",
      "4   0.556  0.215  1\n",
      "5   0.403  0.237  1\n",
      "6   0.481  0.149  1\n",
      "7   0.437  0.211  1\n",
      "8   0.666  0.091  0\n",
      "9   0.243  0.267  0\n",
      "10  0.245  0.057  0\n",
      "11  0.343  0.099  0\n",
      "12  0.639  0.161  0\n",
      "13  0.657  0.198  0\n",
      "14  0.360  0.370  0\n",
      "15  0.593  0.042  0\n",
      "16  0.719  0.103  0\n"
     ]
    }
   ],
   "source": [
    "df=pd.read_csv('watermelon.csv',delimiter=' ',header=None)\n",
    "print(df)\n",
    "X=df.iloc[:,:2].values\n",
    "y=df.iloc[:,-1].values"
   ]
  },
  {
   "cell_type": "code",
   "execution_count": 49,
   "metadata": {},
   "outputs": [
    {
     "data": {
      "image/png": "[encoded data removed]",
      "text/plain": [
       "<Figure size 432x288 with 2 Axes>"
      ]
     },
     "metadata": {},
     "output_type": "display_data"
    }
   ],
   "source": [
    "\n",
    "# we create an instance of SVM and fit out data. We do not scale our\n",
    "# data since we want to plot the support vectors\n",
    "C = 10  # SVM regularization parameter\n",
    "models = (svm.SVC(kernel='linear', C=C),       \n",
    "          svm.SVC(kernel='rbf', gamma=0.7, C=C))\n",
    "models = (clf.fit(X, y) for clf in models)\n",
    "\n",
    "# title for the plots\n",
    "titles = ('SVC with linear kernel',\n",
    "          'SVC with RBF kernel')\n",
    "\n",
    "# Set-up 2x2 grid for plotting.\n",
    "fig, sub = plt.subplots(1, 2)\n",
    "plt.subplots_adjust(wspace=0.4, hspace=0.4)\n",
    "\n",
    "# for clf,name in zip(models,titles):\n",
    "#     print(\"{:<20}\\t{:<12}\\t{:<30}\".format(name,\" Accuracy:\",np.array(clf.predict(X)==y).mean()))\n",
    "    \n",
    "X0, X1 = X[:, 0], X[:, 1]\n",
    "xx, yy = make_meshgrid(X0, X1)\n",
    "\n",
    "\n",
    "for clf, title, ax,m in zip(models, titles, sub.flatten(),marks):\n",
    "    plot_contours(ax, clf, xx, yy,\n",
    "                  cmap=plt.cm.coolwarm, alpha=0.8)\n",
    "    ax.scatter(X0, X1, c=y, cmap=plt.cm.coolwarm, s=20, edgecolors='k')\n",
    "    ax.set_xlim(xx.min(), xx.max())\n",
    "    ax.set_ylim(yy.min(), yy.max())\n",
    "    ax.set_xlabel('X1')\n",
    "    ax.set_ylabel('X2')\n",
    "    ax.set_xticks(())\n",
    "    ax.set_yticks(())\n",
    "    ax.set_title(title)\n",
    "\n",
    "plt.show()\n"
   ]
  },
  {
   "cell_type": "code",
   "execution_count": 67,
   "metadata": {},
   "outputs": [
    {
     "name": "stdout",
     "output_type": "stream",
     "text": [
      "[ True  True  True  True  True  True  True  True  True  True  True  True\n",
      "  True  True  True  True  True  True  True  True  True  True  True  True\n",
      "  True  True  True  True  True  True  True  True  True  True  True  True\n",
      "  True  True  True  True  True  True  True  True  True  True  True  True\n",
      "  True  True False False False  True False  True False  True False  True\n",
      "  True  True  True  True  True False  True  True  True  True  True  True\n",
      "  True  True False False False False  True  True  True  True  True  True\n",
      "  True  True False  True  True  True  True  True  True  True  True  True\n",
      "  True False  True  True  True False  True  True  True  True False  True\n",
      "  True  True  True  True  True False False  True  True  True  True False\n",
      "  True False  True  True  True  True False False  True  True  True  True\n",
      "  True  True False  True  True  True False  True  True  True False  True\n",
      "  True  True False  True  True False]\n",
      "SVC with linear kernel\t Accuracy:  \t0.82                          \n",
      "SVC with RBF kernel \t Accuracy:  \t0.8266666666666667            \n"
     ]
    },
    {
     "data": {
      "image/png": "[encoded data removed]",
      "text/plain": [
       "<Figure size 432x288 with 2 Axes>"
      ]
     },
     "metadata": {
      "needs_background": "light"
     },
     "output_type": "display_data"
    }
   ],
   "source": [
    "\n",
    "# we create an instance of SVM and fit out data. We do not scale our\n",
    "# data since we want to plot the support vectors\n",
    "C = 1  # SVM regularization parameter\n",
    "models = (svm.SVC(kernel='linear', C=C),       \n",
    "          svm.SVC(kernel='rbf', gamma=0.7, C=C))\n",
    "models = (clf.fit(X, y) for clf in models)\n",
    "\n",
    "# title for the plots\n",
    "titles = ('SVC with linear kernel',\n",
    "          'SVC with RBF kernel')\n",
    "\n",
    "# Set-up 2x2 grid for plotting.\n",
    "fig, sub = plt.subplots(1, 2)\n",
    "plt.subplots_adjust(wspace=0.4, hspace=0.4)\n",
    "\n",
    "print(np.array(clf.predict(X)==y))\n",
    "for clf,name in zip(models,titles):\n",
    "    print(\"{:<20}\\t{:<12}\\t{:<30}\".format(name,\" Accuracy:\",np.array(clf.predict(X)==y).mean()))\n",
    "    \n",
    "# X0, X1 = X[:, 0], X[:, 1]\n",
    "# xx, yy = make_meshgrid(X0, X1)\n",
    "\n",
    "# for clf, title, ax in zip(models, titles, sub.flatten()):\n",
    "#     plot_contours(ax, clf, xx, yy,\n",
    "#                   cmap=plt.cm.coolwarm, alpha=0.8)\n",
    "#     ax.scatter(X0, X1, c=y, cmap=plt.cm.coolwarm, s=20, edgecolors='k')\n",
    "#     ax.set_xlim(xx.min(), xx.max())\n",
    "#     ax.set_ylim(yy.min(), yy.max())\n",
    "#     ax.set_xlabel('Sepal length')\n",
    "#     ax.set_ylabel('Sepal width')\n",
    "#     ax.set_xticks(())\n",
    "#     ax.set_yticks(())\n",
    "#     ax.set_title(title)\n",
    "\n",
    "# plt.show()\n"
   ]
  },
  {
   "cell_type": "code",
   "execution_count": 53,
   "metadata": {},
   "outputs": [
    {
     "name": "stdout",
     "output_type": "stream",
     "text": [
      "1.0\n"
     ]
    }
   ],
   "source": [
    "from sklearn.datasets import load_iris\n",
    "from sklearn import tree\n",
    "iris = load_iris()\n",
    "clf = tree.DecisionTreeClassifier()\n",
    "clf = clf.fit(iris.data, iris.target)\n",
    "print(np.mean(np.array(clf.predict(iris.data)==iris.target)))"
   ]
  }
 ],
 "metadata": {
  "kernelspec": {
   "display_name": "pytorch",
   "language": "python",
   "name": "pytorch"
  },
  "language_info": {
   "codemirror_mode": {
    "name": "ipython",
    "version": 3
   },
   "file_extension": ".py",
   "mimetype": "text/x-python",
   "name": "python",
   "nbconvert_exporter": "python",
   "pygments_lexer": "ipython3",
   "version": "3.6.7"
  }
 },
 "nbformat": 4,
 "nbformat_minor": 2
}
